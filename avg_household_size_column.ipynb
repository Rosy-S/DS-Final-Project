{
 "cells": [
  {
   "cell_type": "code",
   "execution_count": 7,
   "metadata": {},
   "outputs": [],
   "source": [
    "import pandas as pd\n",
    "import numpy as np\n",
    "import matplotlib.pyplot as plt\n",
    "import matplotlib as mpl\n",
    "import seaborn as sns\n",
    "import datadotworld as ddw\n",
    "import re\n",
    "import json\n",
    "%matplotlib inline\n",
    "# from log_progress import log_progress # https://github.com/alexanderkuk/log-progress\n",
    "\n",
    "%config InlineBackend.figure_format = 'retina'\n",
    "\n",
    "pd.set_option('display.max_rows', 40)\n",
    "pd.set_option('display.max_columns', 500)\n",
    "pd.set_option('display.width', 1000)\n",
    "#pd.set_option('max_colwidth', 70)"
   ]
  },
  {
   "cell_type": "code",
   "execution_count": 9,
   "metadata": {},
   "outputs": [
    {
     "ename": "RestApiError",
     "evalue": "401 Client Error: Unauthorized for url: https://download.data.world/datapackage/uscensusbureau/acs-2015-5-e-housing",
     "output_type": "error",
     "traceback": [
      "\u001b[0;31m---------------------------------------------------------------------------\u001b[0m",
      "\u001b[0;31mHTTPError\u001b[0m                                 Traceback (most recent call last)",
      "File \u001b[0;32m/opt/anaconda3/lib/python3.11/site-packages/datadotworld/client/api.py:448\u001b[0m, in \u001b[0;36mRestApiClient.download_datapackage\u001b[0;34m(self, dataset_key, dest_dir)\u001b[0m\n\u001b[1;32m    447\u001b[0m     response \u001b[38;5;241m=\u001b[39m requests\u001b[38;5;241m.\u001b[39mget(url, headers\u001b[38;5;241m=\u001b[39mheaders, stream\u001b[38;5;241m=\u001b[39m\u001b[38;5;28;01mTrue\u001b[39;00m)\n\u001b[0;32m--> 448\u001b[0m     response\u001b[38;5;241m.\u001b[39mraise_for_status()\n\u001b[1;32m    449\u001b[0m \u001b[38;5;28;01mexcept\u001b[39;00m requests\u001b[38;5;241m.\u001b[39mRequestException \u001b[38;5;28;01mas\u001b[39;00m e:\n",
      "File \u001b[0;32m/opt/anaconda3/lib/python3.11/site-packages/requests/models.py:1021\u001b[0m, in \u001b[0;36mResponse.raise_for_status\u001b[0;34m(self)\u001b[0m\n\u001b[1;32m   1020\u001b[0m \u001b[38;5;28;01mif\u001b[39;00m http_error_msg:\n\u001b[0;32m-> 1021\u001b[0m     \u001b[38;5;28;01mraise\u001b[39;00m HTTPError(http_error_msg, response\u001b[38;5;241m=\u001b[39m\u001b[38;5;28mself\u001b[39m)\n",
      "\u001b[0;31mHTTPError\u001b[0m: 401 Client Error: Unauthorized for url: https://download.data.world/datapackage/uscensusbureau/acs-2015-5-e-housing",
      "\nDuring handling of the above exception, another exception occurred:\n",
      "\u001b[0;31mRestApiError\u001b[0m                              Traceback (most recent call last)",
      "Cell \u001b[0;32mIn[9], line 2\u001b[0m\n\u001b[1;32m      1\u001b[0m dataset \u001b[38;5;241m=\u001b[39m \u001b[38;5;124m'\u001b[39m\u001b[38;5;124muscensusbureau/acs-2015-5-e-housing\u001b[39m\u001b[38;5;124m'\u001b[39m\n\u001b[0;32m----> 2\u001b[0m data \u001b[38;5;241m=\u001b[39m ddw\u001b[38;5;241m.\u001b[39mload_dataset(dataset)\n",
      "File \u001b[0;32m/opt/anaconda3/lib/python3.11/site-packages/datadotworld/__init__.py:99\u001b[0m, in \u001b[0;36mload_dataset\u001b[0;34m(dataset_key, force_update, auto_update, profile, **kwargs)\u001b[0m\n\u001b[1;32m     65\u001b[0m \u001b[38;5;28;01mdef\u001b[39;00m \u001b[38;5;21mload_dataset\u001b[39m(dataset_key, force_update\u001b[38;5;241m=\u001b[39m\u001b[38;5;28;01mFalse\u001b[39;00m, auto_update\u001b[38;5;241m=\u001b[39m\u001b[38;5;28;01mFalse\u001b[39;00m,\n\u001b[1;32m     66\u001b[0m                  profile\u001b[38;5;241m=\u001b[39m\u001b[38;5;124m'\u001b[39m\u001b[38;5;124mdefault\u001b[39m\u001b[38;5;124m'\u001b[39m, \u001b[38;5;241m*\u001b[39m\u001b[38;5;241m*\u001b[39mkwargs):\n\u001b[1;32m     67\u001b[0m \u001b[38;5;250m    \u001b[39m\u001b[38;5;124;03m\"\"\"Load a dataset from the local filesystem, downloading it from data.world\u001b[39;00m\n\u001b[1;32m     68\u001b[0m \u001b[38;5;124;03m    first, if necessary.\u001b[39;00m\n\u001b[1;32m     69\u001b[0m \n\u001b[0;32m   (...)\u001b[0m\n\u001b[1;32m     96\u001b[0m \u001b[38;5;124;03m    ['changelog', 'datadotworldbballstats', 'datadotworldbballteam']\u001b[39;00m\n\u001b[1;32m     97\u001b[0m \u001b[38;5;124;03m    \"\"\"\u001b[39;00m\n\u001b[1;32m     98\u001b[0m     \u001b[38;5;28;01mreturn\u001b[39;00m _get_instance(profile, \u001b[38;5;241m*\u001b[39m\u001b[38;5;241m*\u001b[39mkwargs)\u001b[38;5;241m.\u001b[39m \\\n\u001b[0;32m---> 99\u001b[0m         load_dataset(dataset_key,\n\u001b[1;32m    100\u001b[0m                      force_update\u001b[38;5;241m=\u001b[39mforce_update,\n\u001b[1;32m    101\u001b[0m                      auto_update\u001b[38;5;241m=\u001b[39mauto_update)\n",
      "File \u001b[0;32m/opt/anaconda3/lib/python3.11/site-packages/datadotworld/datadotworld.py:149\u001b[0m, in \u001b[0;36mDataDotWorld.load_dataset\u001b[0;34m(self, dataset_key, force_update, auto_update)\u001b[0m\n\u001b[1;32m    147\u001b[0m \u001b[38;5;28;01mif\u001b[39;00m \u001b[38;5;129;01mnot\u001b[39;00m path\u001b[38;5;241m.\u001b[39misfile(descriptor_file):\n\u001b[1;32m    148\u001b[0m     \u001b[38;5;28;01mtry\u001b[39;00m:\n\u001b[0;32m--> 149\u001b[0m         descriptor_file \u001b[38;5;241m=\u001b[39m \u001b[38;5;28mself\u001b[39m\u001b[38;5;241m.\u001b[39mapi_client\u001b[38;5;241m.\u001b[39mdownload_datapackage(\n\u001b[1;32m    150\u001b[0m             dataset_key, cache_dir)\n\u001b[1;32m    151\u001b[0m     \u001b[38;5;28;01mexcept\u001b[39;00m RestApiError \u001b[38;5;28;01mas\u001b[39;00m e:\n\u001b[1;32m    152\u001b[0m         \u001b[38;5;28;01mif\u001b[39;00m backup_dir \u001b[38;5;129;01mis\u001b[39;00m \u001b[38;5;129;01mnot\u001b[39;00m \u001b[38;5;28;01mNone\u001b[39;00m:\n",
      "File \u001b[0;32m/opt/anaconda3/lib/python3.11/site-packages/datadotworld/client/api.py:450\u001b[0m, in \u001b[0;36mRestApiClient.download_datapackage\u001b[0;34m(self, dataset_key, dest_dir)\u001b[0m\n\u001b[1;32m    448\u001b[0m     response\u001b[38;5;241m.\u001b[39mraise_for_status()\n\u001b[1;32m    449\u001b[0m \u001b[38;5;28;01mexcept\u001b[39;00m requests\u001b[38;5;241m.\u001b[39mRequestException \u001b[38;5;28;01mas\u001b[39;00m e:\n\u001b[0;32m--> 450\u001b[0m     \u001b[38;5;28;01mraise\u001b[39;00m RestApiError(cause\u001b[38;5;241m=\u001b[39me)\n\u001b[1;32m    452\u001b[0m unzip_dir \u001b[38;5;241m=\u001b[39m path\u001b[38;5;241m.\u001b[39mjoin(\u001b[38;5;28mself\u001b[39m\u001b[38;5;241m.\u001b[39m_config\u001b[38;5;241m.\u001b[39mtmp_dir, \u001b[38;5;28mstr\u001b[39m(uuid\u001b[38;5;241m.\u001b[39muuid4()))\n\u001b[1;32m    453\u001b[0m os\u001b[38;5;241m.\u001b[39mmakedirs(unzip_dir)\n",
      "\u001b[0;31mRestApiError\u001b[0m: 401 Client Error: Unauthorized for url: https://download.data.world/datapackage/uscensusbureau/acs-2015-5-e-housing"
     ]
    }
   ],
   "source": [
    "dataset = 'uscensusbureau/acs-2015-5-e-housing'\n",
    "data = pd.load_dataset(dataset)"
   ]
  },
  {
   "cell_type": "code",
   "execution_count": 3,
   "metadata": {},
   "outputs": [],
   "source": [
    "states = pd.Series([i for i in data.tables.keys()])\n",
    "states.drop(states[states.str.len() != 2].index, inplace=True)\n",
    "states.reset_index(drop=True, inplace=True)"
   ]
  },
  {
   "cell_type": "code",
   "execution_count": 4,
   "metadata": {},
   "outputs": [],
   "source": [
    "cols = ['statefips', 'countyfips', 'b25010_001', 'areaname']"
   ]
  },
  {
   "cell_type": "code",
   "execution_count": 5,
   "metadata": {},
   "outputs": [
    {
     "name": "stderr",
     "output_type": "stream",
     "text": [
      "/Users/noahrippner/anaconda/envs/anaconda-py3/lib/python3.6/site-packages/datadotworld/models/dataset.py:192: UserWarning: Unable to set data frame dtypes automatically using ak schema. Data types may need to be adjusted manually. Error: Integer column has NA values in column 3\n",
      "  'Error: {}'.format(resource_name, e))\n",
      "/Users/noahrippner/anaconda/envs/anaconda-py3/lib/python3.6/site-packages/datadotworld/models/dataset.py:192: UserWarning: Unable to set data frame dtypes automatically using al schema. Data types may need to be adjusted manually. Error: Integer column has NA values in column 3\n",
      "  'Error: {}'.format(resource_name, e))\n",
      "/Users/noahrippner/anaconda/envs/anaconda-py3/lib/python3.6/site-packages/datadotworld/models/dataset.py:192: UserWarning: Unable to set data frame dtypes automatically using ar schema. Data types may need to be adjusted manually. Error: Integer column has NA values in column 3\n",
      "  'Error: {}'.format(resource_name, e))\n",
      "/Users/noahrippner/anaconda/envs/anaconda-py3/lib/python3.6/site-packages/datadotworld/models/dataset.py:192: UserWarning: Unable to set data frame dtypes automatically using az schema. Data types may need to be adjusted manually. Error: Integer column has NA values in column 3\n",
      "  'Error: {}'.format(resource_name, e))\n",
      "/Users/noahrippner/anaconda/envs/anaconda-py3/lib/python3.6/site-packages/datadotworld/models/dataset.py:192: UserWarning: Unable to set data frame dtypes automatically using ca schema. Data types may need to be adjusted manually. Error: Integer column has NA values in column 3\n",
      "  'Error: {}'.format(resource_name, e))\n",
      "/Users/noahrippner/anaconda/envs/anaconda-py3/lib/python3.6/site-packages/datadotworld/models/dataset.py:192: UserWarning: Unable to set data frame dtypes automatically using co schema. Data types may need to be adjusted manually. Error: Integer column has NA values in column 3\n",
      "  'Error: {}'.format(resource_name, e))\n",
      "/Users/noahrippner/anaconda/envs/anaconda-py3/lib/python3.6/site-packages/datadotworld/models/dataset.py:192: UserWarning: Unable to set data frame dtypes automatically using ct schema. Data types may need to be adjusted manually. Error: Integer column has NA values in column 3\n",
      "  'Error: {}'.format(resource_name, e))\n",
      "/Users/noahrippner/anaconda/envs/anaconda-py3/lib/python3.6/site-packages/datadotworld/models/dataset.py:192: UserWarning: Unable to set data frame dtypes automatically using dc schema. Data types may need to be adjusted manually. Error: Integer column has NA values in column 3\n",
      "  'Error: {}'.format(resource_name, e))\n",
      "/Users/noahrippner/anaconda/envs/anaconda-py3/lib/python3.6/site-packages/datadotworld/models/dataset.py:192: UserWarning: Unable to set data frame dtypes automatically using de schema. Data types may need to be adjusted manually. Error: Integer column has NA values in column 3\n",
      "  'Error: {}'.format(resource_name, e))\n",
      "/Users/noahrippner/anaconda/envs/anaconda-py3/lib/python3.6/site-packages/datadotworld/models/dataset.py:192: UserWarning: Unable to set data frame dtypes automatically using fl schema. Data types may need to be adjusted manually. Error: Integer column has NA values in column 3\n",
      "  'Error: {}'.format(resource_name, e))\n",
      "/Users/noahrippner/anaconda/envs/anaconda-py3/lib/python3.6/site-packages/datadotworld/models/dataset.py:192: UserWarning: Unable to set data frame dtypes automatically using ga schema. Data types may need to be adjusted manually. Error: Integer column has NA values in column 3\n",
      "  'Error: {}'.format(resource_name, e))\n",
      "/Users/noahrippner/anaconda/envs/anaconda-py3/lib/python3.6/site-packages/datadotworld/models/dataset.py:192: UserWarning: Unable to set data frame dtypes automatically using hi schema. Data types may need to be adjusted manually. Error: Integer column has NA values in column 3\n",
      "  'Error: {}'.format(resource_name, e))\n",
      "/Users/noahrippner/anaconda/envs/anaconda-py3/lib/python3.6/site-packages/datadotworld/models/dataset.py:192: UserWarning: Unable to set data frame dtypes automatically using ia schema. Data types may need to be adjusted manually. Error: Integer column has NA values in column 3\n",
      "  'Error: {}'.format(resource_name, e))\n",
      "/Users/noahrippner/anaconda/envs/anaconda-py3/lib/python3.6/site-packages/datadotworld/models/dataset.py:192: UserWarning: Unable to set data frame dtypes automatically using id schema. Data types may need to be adjusted manually. Error: Integer column has NA values in column 3\n",
      "  'Error: {}'.format(resource_name, e))\n",
      "/Users/noahrippner/anaconda/envs/anaconda-py3/lib/python3.6/site-packages/datadotworld/models/dataset.py:192: UserWarning: Unable to set data frame dtypes automatically using il schema. Data types may need to be adjusted manually. Error: Integer column has NA values in column 3\n",
      "  'Error: {}'.format(resource_name, e))\n",
      "/Users/noahrippner/anaconda/envs/anaconda-py3/lib/python3.6/site-packages/datadotworld/models/dataset.py:192: UserWarning: Unable to set data frame dtypes automatically using in schema. Data types may need to be adjusted manually. Error: Integer column has NA values in column 3\n",
      "  'Error: {}'.format(resource_name, e))\n",
      "/Users/noahrippner/anaconda/envs/anaconda-py3/lib/python3.6/site-packages/datadotworld/models/dataset.py:192: UserWarning: Unable to set data frame dtypes automatically using ks schema. Data types may need to be adjusted manually. Error: Integer column has NA values in column 3\n",
      "  'Error: {}'.format(resource_name, e))\n",
      "/Users/noahrippner/anaconda/envs/anaconda-py3/lib/python3.6/site-packages/datadotworld/models/dataset.py:192: UserWarning: Unable to set data frame dtypes automatically using ky schema. Data types may need to be adjusted manually. Error: Integer column has NA values in column 3\n",
      "  'Error: {}'.format(resource_name, e))\n",
      "/Users/noahrippner/anaconda/envs/anaconda-py3/lib/python3.6/site-packages/datadotworld/models/dataset.py:192: UserWarning: Unable to set data frame dtypes automatically using la schema. Data types may need to be adjusted manually. Error: Integer column has NA values in column 3\n",
      "  'Error: {}'.format(resource_name, e))\n",
      "/Users/noahrippner/anaconda/envs/anaconda-py3/lib/python3.6/site-packages/datadotworld/models/dataset.py:192: UserWarning: Unable to set data frame dtypes automatically using ma schema. Data types may need to be adjusted manually. Error: Integer column has NA values in column 3\n",
      "  'Error: {}'.format(resource_name, e))\n",
      "/Users/noahrippner/anaconda/envs/anaconda-py3/lib/python3.6/site-packages/datadotworld/models/dataset.py:192: UserWarning: Unable to set data frame dtypes automatically using md schema. Data types may need to be adjusted manually. Error: Integer column has NA values in column 3\n",
      "  'Error: {}'.format(resource_name, e))\n",
      "/Users/noahrippner/anaconda/envs/anaconda-py3/lib/python3.6/site-packages/datadotworld/models/dataset.py:192: UserWarning: Unable to set data frame dtypes automatically using me schema. Data types may need to be adjusted manually. Error: Integer column has NA values in column 3\n",
      "  'Error: {}'.format(resource_name, e))\n",
      "/Users/noahrippner/anaconda/envs/anaconda-py3/lib/python3.6/site-packages/datadotworld/models/dataset.py:192: UserWarning: Unable to set data frame dtypes automatically using mi schema. Data types may need to be adjusted manually. Error: Integer column has NA values in column 3\n",
      "  'Error: {}'.format(resource_name, e))\n",
      "/Users/noahrippner/anaconda/envs/anaconda-py3/lib/python3.6/site-packages/datadotworld/models/dataset.py:192: UserWarning: Unable to set data frame dtypes automatically using mn schema. Data types may need to be adjusted manually. Error: Integer column has NA values in column 3\n",
      "  'Error: {}'.format(resource_name, e))\n",
      "/Users/noahrippner/anaconda/envs/anaconda-py3/lib/python3.6/site-packages/datadotworld/models/dataset.py:192: UserWarning: Unable to set data frame dtypes automatically using mo schema. Data types may need to be adjusted manually. Error: Integer column has NA values in column 3\n",
      "  'Error: {}'.format(resource_name, e))\n",
      "/Users/noahrippner/anaconda/envs/anaconda-py3/lib/python3.6/site-packages/datadotworld/models/dataset.py:192: UserWarning: Unable to set data frame dtypes automatically using ms schema. Data types may need to be adjusted manually. Error: Integer column has NA values in column 3\n",
      "  'Error: {}'.format(resource_name, e))\n"
     ]
    },
    {
     "name": "stderr",
     "output_type": "stream",
     "text": [
      "/Users/noahrippner/anaconda/envs/anaconda-py3/lib/python3.6/site-packages/datadotworld/models/dataset.py:192: UserWarning: Unable to set data frame dtypes automatically using mt schema. Data types may need to be adjusted manually. Error: Integer column has NA values in column 3\n",
      "  'Error: {}'.format(resource_name, e))\n",
      "/Users/noahrippner/anaconda/envs/anaconda-py3/lib/python3.6/site-packages/datadotworld/models/dataset.py:192: UserWarning: Unable to set data frame dtypes automatically using nc schema. Data types may need to be adjusted manually. Error: Integer column has NA values in column 3\n",
      "  'Error: {}'.format(resource_name, e))\n",
      "/Users/noahrippner/anaconda/envs/anaconda-py3/lib/python3.6/site-packages/datadotworld/models/dataset.py:192: UserWarning: Unable to set data frame dtypes automatically using nd schema. Data types may need to be adjusted manually. Error: Integer column has NA values in column 3\n",
      "  'Error: {}'.format(resource_name, e))\n",
      "/Users/noahrippner/anaconda/envs/anaconda-py3/lib/python3.6/site-packages/datadotworld/models/dataset.py:192: UserWarning: Unable to set data frame dtypes automatically using ne schema. Data types may need to be adjusted manually. Error: Integer column has NA values in column 3\n",
      "  'Error: {}'.format(resource_name, e))\n",
      "/Users/noahrippner/anaconda/envs/anaconda-py3/lib/python3.6/site-packages/datadotworld/models/dataset.py:192: UserWarning: Unable to set data frame dtypes automatically using nh schema. Data types may need to be adjusted manually. Error: Integer column has NA values in column 3\n",
      "  'Error: {}'.format(resource_name, e))\n",
      "/Users/noahrippner/anaconda/envs/anaconda-py3/lib/python3.6/site-packages/datadotworld/models/dataset.py:192: UserWarning: Unable to set data frame dtypes automatically using nj schema. Data types may need to be adjusted manually. Error: Integer column has NA values in column 3\n",
      "  'Error: {}'.format(resource_name, e))\n",
      "/Users/noahrippner/anaconda/envs/anaconda-py3/lib/python3.6/site-packages/datadotworld/models/dataset.py:192: UserWarning: Unable to set data frame dtypes automatically using nm schema. Data types may need to be adjusted manually. Error: Integer column has NA values in column 3\n",
      "  'Error: {}'.format(resource_name, e))\n",
      "/Users/noahrippner/anaconda/envs/anaconda-py3/lib/python3.6/site-packages/datadotworld/models/dataset.py:192: UserWarning: Unable to set data frame dtypes automatically using nv schema. Data types may need to be adjusted manually. Error: Integer column has NA values in column 3\n",
      "  'Error: {}'.format(resource_name, e))\n",
      "/Users/noahrippner/anaconda/envs/anaconda-py3/lib/python3.6/site-packages/datadotworld/models/dataset.py:192: UserWarning: Unable to set data frame dtypes automatically using ny schema. Data types may need to be adjusted manually. Error: Integer column has NA values in column 3\n",
      "  'Error: {}'.format(resource_name, e))\n",
      "/Users/noahrippner/anaconda/envs/anaconda-py3/lib/python3.6/site-packages/datadotworld/models/dataset.py:192: UserWarning: Unable to set data frame dtypes automatically using oh schema. Data types may need to be adjusted manually. Error: Integer column has NA values in column 3\n",
      "  'Error: {}'.format(resource_name, e))\n",
      "/Users/noahrippner/anaconda/envs/anaconda-py3/lib/python3.6/site-packages/datadotworld/models/dataset.py:192: UserWarning: Unable to set data frame dtypes automatically using ok schema. Data types may need to be adjusted manually. Error: Integer column has NA values in column 3\n",
      "  'Error: {}'.format(resource_name, e))\n",
      "/Users/noahrippner/anaconda/envs/anaconda-py3/lib/python3.6/site-packages/datadotworld/models/dataset.py:192: UserWarning: Unable to set data frame dtypes automatically using or schema. Data types may need to be adjusted manually. Error: Integer column has NA values in column 3\n",
      "  'Error: {}'.format(resource_name, e))\n",
      "/Users/noahrippner/anaconda/envs/anaconda-py3/lib/python3.6/site-packages/datadotworld/models/dataset.py:192: UserWarning: Unable to set data frame dtypes automatically using pa schema. Data types may need to be adjusted manually. Error: Integer column has NA values in column 3\n",
      "  'Error: {}'.format(resource_name, e))\n",
      "/Users/noahrippner/anaconda/envs/anaconda-py3/lib/python3.6/site-packages/datadotworld/models/dataset.py:192: UserWarning: Unable to set data frame dtypes automatically using pr schema. Data types may need to be adjusted manually. Error: Integer column has NA values in column 3\n",
      "  'Error: {}'.format(resource_name, e))\n",
      "/Users/noahrippner/anaconda/envs/anaconda-py3/lib/python3.6/site-packages/datadotworld/models/dataset.py:192: UserWarning: Unable to set data frame dtypes automatically using ri schema. Data types may need to be adjusted manually. Error: Integer column has NA values in column 3\n",
      "  'Error: {}'.format(resource_name, e))\n",
      "/Users/noahrippner/anaconda/envs/anaconda-py3/lib/python3.6/site-packages/datadotworld/models/dataset.py:192: UserWarning: Unable to set data frame dtypes automatically using sc schema. Data types may need to be adjusted manually. Error: Integer column has NA values in column 3\n",
      "  'Error: {}'.format(resource_name, e))\n",
      "/Users/noahrippner/anaconda/envs/anaconda-py3/lib/python3.6/site-packages/datadotworld/models/dataset.py:192: UserWarning: Unable to set data frame dtypes automatically using sd schema. Data types may need to be adjusted manually. Error: Integer column has NA values in column 3\n",
      "  'Error: {}'.format(resource_name, e))\n",
      "/Users/noahrippner/anaconda/envs/anaconda-py3/lib/python3.6/site-packages/datadotworld/models/dataset.py:192: UserWarning: Unable to set data frame dtypes automatically using tn schema. Data types may need to be adjusted manually. Error: Integer column has NA values in column 3\n",
      "  'Error: {}'.format(resource_name, e))\n",
      "/Users/noahrippner/anaconda/envs/anaconda-py3/lib/python3.6/site-packages/datadotworld/models/dataset.py:192: UserWarning: Unable to set data frame dtypes automatically using tx schema. Data types may need to be adjusted manually. Error: Integer column has NA values in column 3\n",
      "  'Error: {}'.format(resource_name, e))\n",
      "/Users/noahrippner/anaconda/envs/anaconda-py3/lib/python3.6/site-packages/datadotworld/models/dataset.py:192: UserWarning: Unable to set data frame dtypes automatically using ut schema. Data types may need to be adjusted manually. Error: Integer column has NA values in column 3\n",
      "  'Error: {}'.format(resource_name, e))\n",
      "/Users/noahrippner/anaconda/envs/anaconda-py3/lib/python3.6/site-packages/datadotworld/models/dataset.py:192: UserWarning: Unable to set data frame dtypes automatically using va schema. Data types may need to be adjusted manually. Error: Integer column has NA values in column 3\n",
      "  'Error: {}'.format(resource_name, e))\n",
      "/Users/noahrippner/anaconda/envs/anaconda-py3/lib/python3.6/site-packages/datadotworld/models/dataset.py:192: UserWarning: Unable to set data frame dtypes automatically using vt schema. Data types may need to be adjusted manually. Error: Integer column has NA values in column 3\n",
      "  'Error: {}'.format(resource_name, e))\n",
      "/Users/noahrippner/anaconda/envs/anaconda-py3/lib/python3.6/site-packages/datadotworld/models/dataset.py:192: UserWarning: Unable to set data frame dtypes automatically using wa schema. Data types may need to be adjusted manually. Error: Integer column has NA values in column 3\n",
      "  'Error: {}'.format(resource_name, e))\n",
      "/Users/noahrippner/anaconda/envs/anaconda-py3/lib/python3.6/site-packages/datadotworld/models/dataset.py:192: UserWarning: Unable to set data frame dtypes automatically using wi schema. Data types may need to be adjusted manually. Error: Integer column has NA values in column 3\n",
      "  'Error: {}'.format(resource_name, e))\n",
      "/Users/noahrippner/anaconda/envs/anaconda-py3/lib/python3.6/site-packages/datadotworld/models/dataset.py:192: UserWarning: Unable to set data frame dtypes automatically using wv schema. Data types may need to be adjusted manually. Error: Integer column has NA values in column 3\n",
      "  'Error: {}'.format(resource_name, e))\n",
      "/Users/noahrippner/anaconda/envs/anaconda-py3/lib/python3.6/site-packages/datadotworld/models/dataset.py:192: UserWarning: Unable to set data frame dtypes automatically using wy schema. Data types may need to be adjusted manually. Error: Integer column has NA values in column 3\n",
      "  'Error: {}'.format(resource_name, e))\n"
     ]
    }
   ],
   "source": [
    "count = 0\n",
    "for i in states.values:\n",
    "    if count == 0:\n",
    "        df = data.dataframes[i].loc[data.dataframes[i].summarylevel==50, cols]\n",
    "    else:\n",
    "        df = pd.concat([df, data.dataframes[i].loc[data.dataframes[i].summarylevel==50, cols]], axis=0)\n",
    "    count += 1\n",
    "df.reset_index(drop=True, inplace=True)    "
   ]
  },
  {
   "cell_type": "code",
   "execution_count": 6,
   "metadata": {},
   "outputs": [],
   "source": [
    "df['statefips'] = df.statefips.astype('str')\n",
    "df['countyfips'] = df.countyfips.astype('int')\n",
    "df['countyfips'] = df.countyfips.astype('str')\n",
    "df['countyfips'] = df.countyfips.str.pad(3, fillchar='0')"
   ]
  },
  {
   "cell_type": "code",
   "execution_count": 7,
   "metadata": {},
   "outputs": [],
   "source": [
    "df.rename(columns={'b25010_001':'avghouseholdsize', 'areaname':'geography'}, inplace=True)"
   ]
  },
  {
   "cell_type": "code",
   "execution_count": 8,
   "metadata": {},
   "outputs": [],
   "source": [
    "with ddw.open_remote_file('exercises/linear-regression-exercise-1', 'avg-household-size.csv') as f:\n",
    "    df.to_csv(f, index=False)"
   ]
  },
  {
   "cell_type": "code",
   "execution_count": null,
   "metadata": {},
   "outputs": [],
   "source": []
  }
 ],
 "metadata": {
  "kernelspec": {
   "display_name": "Python 3 (ipykernel)",
   "language": "python",
   "name": "python3"
  },
  "language_info": {
   "codemirror_mode": {
    "name": "ipython",
    "version": 3
   },
   "file_extension": ".py",
   "mimetype": "text/x-python",
   "name": "python",
   "nbconvert_exporter": "python",
   "pygments_lexer": "ipython3",
   "version": "3.11.7"
  },
  "toc": {
   "colors": {
    "hover_highlight": "#DAA520",
    "navigate_num": "#000000",
    "navigate_text": "#333333",
    "running_highlight": "#FF0000",
    "selected_highlight": "#FFD700",
    "sidebar_border": "#EEEEEE",
    "wrapper_background": "#FFFFFF"
   },
   "moveMenuLeft": true,
   "nav_menu": {
    "height": "12px",
    "width": "252px"
   },
   "navigate_menu": true,
   "number_sections": true,
   "sideBar": true,
   "threshold": 4,
   "toc_cell": false,
   "toc_section_display": "block",
   "toc_window_display": false,
   "widenNotebook": false
  },
  "varInspector": {
   "cols": {
    "lenName": 16,
    "lenType": 16,
    "lenVar": 40
   },
   "kernels_config": {
    "python": {
     "delete_cmd_postfix": "",
     "delete_cmd_prefix": "del ",
     "library": "var_list.py",
     "varRefreshCmd": "print(var_dic_list())"
    },
    "r": {
     "delete_cmd_postfix": ") ",
     "delete_cmd_prefix": "rm(",
     "library": "var_list.r",
     "varRefreshCmd": "cat(var_dic_list()) "
    }
   },
   "types_to_exclude": [
    "module",
    "function",
    "builtin_function_or_method",
    "instance",
    "_Feature"
   ],
   "window_display": false
  }
 },
 "nbformat": 4,
 "nbformat_minor": 4
}
