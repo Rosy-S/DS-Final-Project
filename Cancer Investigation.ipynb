{
 "cells": [
  {
   "cell_type": "markdown",
   "id": "6f16eca0-74c4-4773-bad2-9fc4d2bbddeb",
   "metadata": {},
   "source": [
    "Introduction – In this section, you should describe the problem that you are solving, any background information that will help the instructors to understand the program.\n",
    "\n",
    "Requirements - List all the Python modules that need to be installed. If some of these modules need a specific version, please indicate so. You can also list any other conditions that are needed to run the program.\n",
    "\n",
    "Description of the Python program. You need to describe the programs that you wrote.\n",
    "\n",
    "Screenshots of the program output - If you are using a specific hardware and cannot obtain screenshot, please enclose appropriate photographs.\n",
    "\n",
    "Conclusion - Describe in brief the problem you solved, the program you wrote and obtained output.\n",
    "\n",
    "Python program - If the program is one file, please add it as one of the pages in the report. If the code is large and spans more than one file, enclose a separate zip file.\n",
    "\n",
    "If you are using a Jupyter notebook, make sure to add the above steps in Markdown cells and code cells. You add the link from where you obtained the data.\n",
    "\n",
    "You will be evaluated based on the following:\n",
    "\n",
    "Data preparation\n",
    "Data visualization\n",
    "Visualizing the learning process\n",
    "Appropriate choice of architecture\n"
   ]
  },
  {
   "cell_type": "markdown",
   "id": "8bcb757c-c73f-4389-ad1d-bc439ad7d36e",
   "metadata": {},
   "source": [
    "Introduction – In this section, you should describe the problem that you are solving, any background information that will help the instructors to understand the program."
   ]
  },
  {
   "cell_type": "code",
   "execution_count": 1,
   "id": "e226d1f2-524b-498a-8e2b-f743b31debbf",
   "metadata": {},
   "outputs": [],
   "source": [
    "import pandas as pd\n",
    "import numpy as np\n",
    "import matplotlib.pyplot as plt\n",
    "import matplotlib as mpl\n",
    "import seaborn as sns"
   ]
  },
  {
   "cell_type": "code",
   "execution_count": 2,
   "id": "8d573da8-d7eb-40dc-aa2e-c3f1f32a12d2",
   "metadata": {},
   "outputs": [
    {
     "name": "stdout",
     "output_type": "stream",
     "text": [
      "   statefips  countyfips  avghouseholdsize                           geography\n",
      "0          2          13              2.43      Aleutians East Borough, Alaska\n",
      "1          2          16              3.59  Aleutians West Census Area, Alaska\n",
      "2          2          20              2.77      Anchorage Municipality, Alaska\n",
      "3          2          50              3.86          Bethel Census Area, Alaska\n",
      "4          2          60              2.50         Bristol Bay Borough, Alaska\n",
      "(3220, 4)\n"
     ]
    }
   ],
   "source": [
    "housing = pd.read_csv('avg-household-size.csv')\n",
    "print(housing.head())\n",
    "print(housing.shape)"
   ]
  },
  {
   "cell_type": "code",
   "execution_count": 3,
   "id": "41599fdd-1ead-4b58-bef1-805c7d3c3315",
   "metadata": {},
   "outputs": [
    {
     "name": "stdout",
     "output_type": "stream",
     "text": [
      "         statefips   countyfips  avghouseholdsize\n",
      "count  3220.000000  3220.000000       3220.000000\n",
      "mean     31.290683   102.922050          2.540755\n",
      "std      16.277207   106.693846          0.267654\n",
      "min       1.000000     1.000000          1.370000\n",
      "25%      19.000000    35.000000          2.380000\n",
      "50%      30.000000    79.000000          2.510000\n",
      "75%      46.000000   133.000000          2.650000\n",
      "max      72.000000   840.000000          4.730000\n"
     ]
    }
   ],
   "source": [
    "# The household size dataset may be used if, during analysis, we think that avg household size or adding state information to each cancer_data row will be beneficial in our model\n",
    "# We can map the household data by geography to the cancer_data dataset.\n",
    "print(housing.describe())"
   ]
  },
  {
   "cell_type": "code",
   "execution_count": 4,
   "id": "5d4e0a27-3f46-4baa-8e57-9f8cc5055715",
   "metadata": {},
   "outputs": [
    {
     "name": "stdout",
     "output_type": "stream",
     "text": [
      "(3047, 33)\n"
     ]
    }
   ],
   "source": [
    "cancer_data = pd.read_csv('cancer_reg.csv')\n",
    "print(cancer_data.shape)"
   ]
  },
  {
   "cell_type": "code",
   "execution_count": 5,
   "id": "a2fc9bec-37e5-4f65-b20b-fc26c7e4272a",
   "metadata": {},
   "outputs": [
    {
     "name": "stdout",
     "output_type": "stream",
     "text": [
      "Index(['avganncount', 'avgdeathsperyear', 'target_deathrate', 'incidencerate',\n",
      "       'medincome', 'popest2015', 'povertypercent', 'studypercap', 'binnedinc',\n",
      "       'medianage', 'medianagemale', 'medianagefemale', 'geography',\n",
      "       'percentmarried', 'pctnohs18_24', 'pcths18_24', 'pctsomecol18_24',\n",
      "       'pctbachdeg18_24', 'pcths25_over', 'pctbachdeg25_over',\n",
      "       'pctemployed16_over', 'pctunemployed16_over', 'pctprivatecoverage',\n",
      "       'pctprivatecoveragealone', 'pctempprivcoverage', 'pctpubliccoverage',\n",
      "       'pctpubliccoveragealone', 'pctwhite', 'pctblack', 'pctasian',\n",
      "       'pctotherrace', 'pctmarriedhouseholds', 'birthrate'],\n",
      "      dtype='object')\n"
     ]
    }
   ],
   "source": [
    "print(cancer_data.columns)"
   ]
  },
  {
   "cell_type": "code",
   "execution_count": 6,
   "id": "44da2582-1152-4f3e-b723-766ff9997d6e",
   "metadata": {},
   "outputs": [
    {
     "name": "stdout",
     "output_type": "stream",
     "text": [
      "avganncount                   0\n",
      "avgdeathsperyear              0\n",
      "target_deathrate              0\n",
      "incidencerate                 0\n",
      "medincome                     0\n",
      "popest2015                    0\n",
      "povertypercent                0\n",
      "studypercap                   0\n",
      "binnedinc                     0\n",
      "medianage                     0\n",
      "medianagemale                 0\n",
      "medianagefemale               0\n",
      "geography                     0\n",
      "percentmarried                0\n",
      "pctnohs18_24                  0\n",
      "pcths18_24                    0\n",
      "pctsomecol18_24            2285\n",
      "pctbachdeg18_24               0\n",
      "pcths25_over                  0\n",
      "pctbachdeg25_over             0\n",
      "pctemployed16_over          152\n",
      "pctunemployed16_over          0\n",
      "pctprivatecoverage            0\n",
      "pctprivatecoveragealone     609\n",
      "pctempprivcoverage            0\n",
      "pctpubliccoverage             0\n",
      "pctpubliccoveragealone        0\n",
      "pctwhite                      0\n",
      "pctblack                      0\n",
      "pctasian                      0\n",
      "pctotherrace                  0\n",
      "pctmarriedhouseholds          0\n",
      "birthrate                     0\n",
      "dtype: int64\n"
     ]
    }
   ],
   "source": [
    "print(cancer_data.isnull().sum())"
   ]
  },
  {
   "cell_type": "code",
   "execution_count": 7,
   "id": "bc7d2f48-3139-41a4-9f18-d9738005353f",
   "metadata": {},
   "outputs": [],
   "source": [
    "# since we have some Null values that may skew the data if we fill with unrelated data, we will drop those. We can also extrapolate the necessary information from other columns\n",
    "# for example, pctsomecol18_24 can be generally covered by pctbachdeg18_24, pctemployed16_over can be generally covered by pctunemployed16_over\n",
    "\n",
    "cancer_data = cancer_data.drop(['pctsomecol18_24', 'binnedinc', 'pctemployed16_over', 'pctprivatecoveragealone'], axis=1)\n"
   ]
  },
  {
   "cell_type": "code",
   "execution_count": 8,
   "id": "42471ab0-f613-4b53-a5db-530788ed31a2",
   "metadata": {},
   "outputs": [
    {
     "name": "stdout",
     "output_type": "stream",
     "text": [
      "avganncount               float64\n",
      "avgdeathsperyear            int64\n",
      "target_deathrate          float64\n",
      "incidencerate             float64\n",
      "medincome                   int64\n",
      "popest2015                  int64\n",
      "povertypercent            float64\n",
      "studypercap               float64\n",
      "medianage                 float64\n",
      "medianagemale             float64\n",
      "medianagefemale           float64\n",
      "geography                  object\n",
      "percentmarried            float64\n",
      "pctnohs18_24              float64\n",
      "pcths18_24                float64\n",
      "pctbachdeg18_24           float64\n",
      "pcths25_over              float64\n",
      "pctbachdeg25_over         float64\n",
      "pctunemployed16_over      float64\n",
      "pctprivatecoverage        float64\n",
      "pctempprivcoverage        float64\n",
      "pctpubliccoverage         float64\n",
      "pctpubliccoveragealone    float64\n",
      "pctwhite                  float64\n",
      "pctblack                  float64\n",
      "pctasian                  float64\n",
      "pctotherrace              float64\n",
      "pctmarriedhouseholds      float64\n",
      "birthrate                 float64\n",
      "dtype: object\n"
     ]
    }
   ],
   "source": [
    "print(cancer_data.dtypes)"
   ]
  },
  {
   "cell_type": "code",
   "execution_count": 9,
   "id": "091bfb4b-cb9f-481e-814c-80a77e33fd59",
   "metadata": {},
   "outputs": [],
   "source": [
    "#data cleaning : We think that the state might be a good column to test. So we need to convert all the counties and their state to just a state,\n",
    "# and then from Categorical to Numerical\n",
    "cancer_data_deep_copy = cancer_data.copy(deep=True) # saving cancer data as all original values\n",
    "\n",
    "# re-writing geography with only state\n",
    "cancer_data.geography = [(item.split(\",\")[-1]) for item in cancer_data.geography]\n"
   ]
  },
  {
   "cell_type": "code",
   "execution_count": 10,
   "id": "d23554ed-f8cc-49f3-bb8d-2df195dd8499",
   "metadata": {},
   "outputs": [
    {
     "name": "stdout",
     "output_type": "stream",
     "text": [
      "(3047, 29)\n",
      "geography\n",
      " Texas                   233\n",
      " Georgia                 155\n",
      " Virginia                125\n",
      " Kentucky                120\n",
      " Missouri                115\n",
      " Illinois                102\n",
      " Kansas                  102\n",
      " North Carolina           99\n",
      " Iowa                     99\n",
      " Tennessee                95\n",
      " Indiana                  92\n",
      " Ohio                     87\n",
      " Minnesota                87\n",
      " Michigan                 83\n",
      " Mississippi              82\n",
      " Nebraska                 80\n",
      " Oklahoma                 77\n",
      " Arkansas                 75\n",
      " Wisconsin                72\n",
      " Pennsylvania             67\n",
      " Florida                  66\n",
      " Louisiana                64\n",
      " Alabama                  63\n",
      " New York                 62\n",
      " Colorado                 60\n",
      " South Dakota             59\n",
      " California               57\n",
      " West Virginia            55\n",
      " North Dakota             51\n",
      " Montana                  48\n",
      " South Carolina           46\n",
      " Idaho                    42\n",
      " Washington               39\n",
      " Oregon                   36\n",
      " New Mexico               32\n",
      " Utah                     27\n",
      " Maryland                 24\n",
      " Wyoming                  23\n",
      " New Jersey               21\n",
      " Alaska                   18\n",
      " Nevada                   17\n",
      " Maine                    16\n",
      " Arizona                  15\n",
      " Vermont                  14\n",
      " Massachusetts            14\n",
      " New Hampshire            10\n",
      " Connecticut               8\n",
      " Rhode Island              5\n",
      " Hawaii                    4\n",
      " Delaware                  3\n",
      " District of Columbia      1\n",
      "Name: count, dtype: int64\n"
     ]
    }
   ],
   "source": [
    "print(cancer_data.shape)\n",
    "print(cancer_data.geography.value_counts())"
   ]
  },
  {
   "cell_type": "code",
   "execution_count": 11,
   "id": "e0ff59bd-426a-477c-ab0f-8013d9ef8a29",
   "metadata": {},
   "outputs": [],
   "source": [
    "cancer_data['geography'] = cancer_data['geography'].astype('category')\n",
    "\n",
    "cancer_data['geography'] = cancer_data['geography'].cat.codes\n",
    "# difficult to see what may be a good starting point here. Let's find the correlation points of each\n",
    "\n",
    "corelation_values = cancer_data.corr()"
   ]
  },
  {
   "cell_type": "code",
   "execution_count": null,
   "id": "1749f8b4-76b6-499d-b978-d8dff7b8b9c0",
   "metadata": {},
   "outputs": [
    {
     "name": "stderr",
     "output_type": "stream",
     "text": [
      "/opt/anaconda3/lib/python3.11/site-packages/seaborn/_oldcore.py:1119: FutureWarning: use_inf_as_na option is deprecated and will be removed in a future version. Convert inf values to NaN before operating instead.\n",
      "  with pd.option_context('mode.use_inf_as_na', True):\n",
      "/opt/anaconda3/lib/python3.11/site-packages/seaborn/_oldcore.py:1119: FutureWarning: use_inf_as_na option is deprecated and will be removed in a future version. Convert inf values to NaN before operating instead.\n",
      "  with pd.option_context('mode.use_inf_as_na', True):\n",
      "/opt/anaconda3/lib/python3.11/site-packages/seaborn/_oldcore.py:1119: FutureWarning: use_inf_as_na option is deprecated and will be removed in a future version. Convert inf values to NaN before operating instead.\n",
      "  with pd.option_context('mode.use_inf_as_na', True):\n",
      "/opt/anaconda3/lib/python3.11/site-packages/seaborn/_oldcore.py:1119: FutureWarning: use_inf_as_na option is deprecated and will be removed in a future version. Convert inf values to NaN before operating instead.\n",
      "  with pd.option_context('mode.use_inf_as_na', True):\n",
      "/opt/anaconda3/lib/python3.11/site-packages/seaborn/_oldcore.py:1119: FutureWarning: use_inf_as_na option is deprecated and will be removed in a future version. Convert inf values to NaN before operating instead.\n",
      "  with pd.option_context('mode.use_inf_as_na', True):\n",
      "/opt/anaconda3/lib/python3.11/site-packages/seaborn/_oldcore.py:1119: FutureWarning: use_inf_as_na option is deprecated and will be removed in a future version. Convert inf values to NaN before operating instead.\n",
      "  with pd.option_context('mode.use_inf_as_na', True):\n",
      "/opt/anaconda3/lib/python3.11/site-packages/seaborn/_oldcore.py:1119: FutureWarning: use_inf_as_na option is deprecated and will be removed in a future version. Convert inf values to NaN before operating instead.\n",
      "  with pd.option_context('mode.use_inf_as_na', True):\n",
      "/opt/anaconda3/lib/python3.11/site-packages/seaborn/_oldcore.py:1119: FutureWarning: use_inf_as_na option is deprecated and will be removed in a future version. Convert inf values to NaN before operating instead.\n",
      "  with pd.option_context('mode.use_inf_as_na', True):\n",
      "/opt/anaconda3/lib/python3.11/site-packages/seaborn/_oldcore.py:1119: FutureWarning: use_inf_as_na option is deprecated and will be removed in a future version. Convert inf values to NaN before operating instead.\n",
      "  with pd.option_context('mode.use_inf_as_na', True):\n",
      "/opt/anaconda3/lib/python3.11/site-packages/seaborn/_oldcore.py:1119: FutureWarning: use_inf_as_na option is deprecated and will be removed in a future version. Convert inf values to NaN before operating instead.\n",
      "  with pd.option_context('mode.use_inf_as_na', True):\n",
      "/opt/anaconda3/lib/python3.11/site-packages/seaborn/_oldcore.py:1119: FutureWarning: use_inf_as_na option is deprecated and will be removed in a future version. Convert inf values to NaN before operating instead.\n",
      "  with pd.option_context('mode.use_inf_as_na', True):\n",
      "/opt/anaconda3/lib/python3.11/site-packages/seaborn/_oldcore.py:1119: FutureWarning: use_inf_as_na option is deprecated and will be removed in a future version. Convert inf values to NaN before operating instead.\n",
      "  with pd.option_context('mode.use_inf_as_na', True):\n",
      "/opt/anaconda3/lib/python3.11/site-packages/seaborn/_oldcore.py:1119: FutureWarning: use_inf_as_na option is deprecated and will be removed in a future version. Convert inf values to NaN before operating instead.\n",
      "  with pd.option_context('mode.use_inf_as_na', True):\n",
      "/opt/anaconda3/lib/python3.11/site-packages/seaborn/_oldcore.py:1119: FutureWarning: use_inf_as_na option is deprecated and will be removed in a future version. Convert inf values to NaN before operating instead.\n",
      "  with pd.option_context('mode.use_inf_as_na', True):\n"
     ]
    }
   ],
   "source": [
    "sns.pairplot(cancer_data)\n",
    "plt.show()"
   ]
  },
  {
   "cell_type": "code",
   "execution_count": null,
   "id": "1710daff-e75b-4f06-96b9-b8f0740afc8d",
   "metadata": {},
   "outputs": [],
   "source": [
    "corr_heatmap = sns.heatmap(corelation_values, xticklabels=cancer_data.columns, yticklabels=cancer_data.columns)"
   ]
  },
  {
   "cell_type": "code",
   "execution_count": null,
   "id": "6bdec597-8ff7-47f0-ae3a-d3daff8a438f",
   "metadata": {},
   "outputs": [],
   "source": []
  }
 ],
 "metadata": {
  "kernelspec": {
   "display_name": "Python 3 (ipykernel)",
   "language": "python",
   "name": "python3"
  },
  "language_info": {
   "codemirror_mode": {
    "name": "ipython",
    "version": 3
   },
   "file_extension": ".py",
   "mimetype": "text/x-python",
   "name": "python",
   "nbconvert_exporter": "python",
   "pygments_lexer": "ipython3",
   "version": "3.11.7"
  }
 },
 "nbformat": 4,
 "nbformat_minor": 5
}
